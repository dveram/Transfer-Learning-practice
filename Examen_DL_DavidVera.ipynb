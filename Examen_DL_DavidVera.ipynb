{
  "nbformat": 4,
  "nbformat_minor": 0,
  "metadata": {
    "colab": {
      "name": "Examen_DL_DavidVera.ipynb",
      "provenance": [],
      "collapsed_sections": [],
      "machine_shape": "hm"
    },
    "kernelspec": {
      "name": "python3",
      "display_name": "Python 3"
    },
    "accelerator": "GPU"
  },
  "cells": [
    {
      "cell_type": "markdown",
      "metadata": {
        "id": "23wvejl04A2Z",
        "colab_type": "text"
      },
      "source": [
        "**EXAMEN PARCIAL DE TECNICAS AVANZADAS DE DATA MINING Y SISTEMAS INTELIGENTES**\n",
        "\n",
        "\n",
        "1. Cargamos/Montamos el repositorio donde se encuentra el DataSet"
      ]
    },
    {
      "cell_type": "code",
      "metadata": {
        "id": "lBSPrd3y39jc",
        "colab_type": "code",
        "colab": {
          "base_uri": "https://localhost:8080/",
          "height": 120
        },
        "outputId": "52aef21c-29da-4f66-b6e6-83f28cd043a8"
      },
      "source": [
        "from google.colab import drive\n",
        "drive.mount('/content/drive')"
      ],
      "execution_count": 1,
      "outputs": [
        {
          "output_type": "stream",
          "text": [
            "Go to this URL in a browser: https://accounts.google.com/o/oauth2/auth?client_id=947318989803-6bn6qk8qdgf4n4g3pfee6491hc0brc4i.apps.googleusercontent.com&redirect_uri=urn%3Aietf%3Awg%3Aoauth%3A2.0%3Aoob&scope=email%20https%3A%2F%2Fwww.googleapis.com%2Fauth%2Fdocs.test%20https%3A%2F%2Fwww.googleapis.com%2Fauth%2Fdrive%20https%3A%2F%2Fwww.googleapis.com%2Fauth%2Fdrive.photos.readonly%20https%3A%2F%2Fwww.googleapis.com%2Fauth%2Fpeopleapi.readonly&response_type=code\n",
            "\n",
            "Enter your authorization code:\n",
            "··········\n",
            "Mounted at /content/drive\n"
          ],
          "name": "stdout"
        }
      ]
    },
    {
      "cell_type": "markdown",
      "metadata": {
        "id": "DnbzWudj4j8R",
        "colab_type": "text"
      },
      "source": [
        "2. Cargamos y descomprimimos el DataSet"
      ]
    },
    {
      "cell_type": "code",
      "metadata": {
        "id": "RGkGhuod4kYS",
        "colab_type": "code",
        "colab": {
          "base_uri": "https://localhost:8080/",
          "height": 100
        },
        "outputId": "79366070-b717-430d-8480-fd71ad7ee153"
      },
      "source": [
        "!unzip \"/content/drive/My Drive/TecnicasAvanzadasML/examenDL.zip\""
      ],
      "execution_count": 2,
      "outputs": [
        {
          "output_type": "stream",
          "text": [
            "Archive:  /content/drive/My Drive/TecnicasAvanzadasML/examenDL.zip\n",
            "   creating: examenDL/\n",
            "  inflating: examenDL/train.csv      \n",
            "   creating: examenDL/.ipynb_checkpoints/\n",
            "  inflating: examenDL/.ipynb_checkpoints/Examen-checkpoint.ipynb  \n"
          ],
          "name": "stdout"
        }
      ]
    },
    {
      "cell_type": "markdown",
      "metadata": {
        "id": "uooKfR2-BRNB",
        "colab_type": "text"
      },
      "source": [
        "3. Importamos las librerias a usar y cargamos el csv"
      ]
    },
    {
      "cell_type": "code",
      "metadata": {
        "id": "KsFv0WB4BUve",
        "colab_type": "code",
        "colab": {}
      },
      "source": [
        "import numpy as n\n",
        "import pandas as pd\n",
        "import matplotlib.pyplot as plt\n",
        "import plotly.graph_objs as go\n",
        "from sklearn.model_selection import train_test_split\n",
        "from tqdm import tnrange, tqdm_notebook\n",
        "%matplotlib inline"
      ],
      "execution_count": 0,
      "outputs": []
    },
    {
      "cell_type": "code",
      "metadata": {
        "id": "rcLCToiGBvCs",
        "colab_type": "code",
        "colab": {}
      },
      "source": [
        "# Función para leer el archivo csv\n",
        "def read_data_file(csv_path, row_count=None):\n",
        "    dfcolumns = pd.read_csv(csv_path, nrows = 1)\n",
        "    ncols = len(dfcolumns.columns)\n",
        "    if row_count:\n",
        "        df = pd.read_csv(csv_path, header = None, sep= ',', \n",
        "                     skiprows = 1, usecols = list(range(ncols)),\n",
        "                     names = dfcolumns.columns, low_memory=False, nrows=row_count)\n",
        "    else:\n",
        "        df = pd.read_csv(csv_path, header = None, sep= ',', \n",
        "                         skiprows = 1, usecols = list(range(ncols)),\n",
        "                         names = dfcolumns.columns, low_memory=False)\n",
        "    return df"
      ],
      "execution_count": 0,
      "outputs": []
    },
    {
      "cell_type": "code",
      "metadata": {
        "id": "0Q4LE6bhBjGB",
        "colab_type": "code",
        "colab": {}
      },
      "source": [
        "# Leemos el csv\n",
        "# df = read_data_file(\"examenDL/train.csv\")\n",
        "df = pd.read_csv(\"examenDL/train.csv\", nrows=1000000)"
      ],
      "execution_count": 0,
      "outputs": []
    },
    {
      "cell_type": "code",
      "metadata": {
        "id": "S3eAPolUGvJ_",
        "colab_type": "code",
        "colab": {
          "base_uri": "https://localhost:8080/",
          "height": 197
        },
        "outputId": "c4466e39-218d-43f7-c03f-fe3b18aa8b09"
      },
      "source": [
        "# Vemos como está compuesto el CSV\n",
        "df.head()"
      ],
      "execution_count": 6,
      "outputs": [
        {
          "output_type": "execute_result",
          "data": {
            "text/html": [
              "<div>\n",
              "<style scoped>\n",
              "    .dataframe tbody tr th:only-of-type {\n",
              "        vertical-align: middle;\n",
              "    }\n",
              "\n",
              "    .dataframe tbody tr th {\n",
              "        vertical-align: top;\n",
              "    }\n",
              "\n",
              "    .dataframe thead th {\n",
              "        text-align: right;\n",
              "    }\n",
              "</style>\n",
              "<table border=\"1\" class=\"dataframe\">\n",
              "  <thead>\n",
              "    <tr style=\"text-align: right;\">\n",
              "      <th></th>\n",
              "      <th>key</th>\n",
              "      <th>fare_amount</th>\n",
              "      <th>pickup_datetime</th>\n",
              "      <th>pickup_longitude</th>\n",
              "      <th>pickup_latitude</th>\n",
              "      <th>dropoff_longitude</th>\n",
              "      <th>dropoff_latitude</th>\n",
              "      <th>passenger_count</th>\n",
              "    </tr>\n",
              "  </thead>\n",
              "  <tbody>\n",
              "    <tr>\n",
              "      <th>0</th>\n",
              "      <td>2009-06-15 17:26:21.0000001</td>\n",
              "      <td>4.5</td>\n",
              "      <td>2009-06-15 17:26:21 UTC</td>\n",
              "      <td>-73.844311</td>\n",
              "      <td>40.721319</td>\n",
              "      <td>-73.841610</td>\n",
              "      <td>40.712278</td>\n",
              "      <td>1</td>\n",
              "    </tr>\n",
              "    <tr>\n",
              "      <th>1</th>\n",
              "      <td>2010-01-05 16:52:16.0000002</td>\n",
              "      <td>16.9</td>\n",
              "      <td>2010-01-05 16:52:16 UTC</td>\n",
              "      <td>-74.016048</td>\n",
              "      <td>40.711303</td>\n",
              "      <td>-73.979268</td>\n",
              "      <td>40.782004</td>\n",
              "      <td>1</td>\n",
              "    </tr>\n",
              "    <tr>\n",
              "      <th>2</th>\n",
              "      <td>2011-08-18 00:35:00.00000049</td>\n",
              "      <td>5.7</td>\n",
              "      <td>2011-08-18 00:35:00 UTC</td>\n",
              "      <td>-73.982738</td>\n",
              "      <td>40.761270</td>\n",
              "      <td>-73.991242</td>\n",
              "      <td>40.750562</td>\n",
              "      <td>2</td>\n",
              "    </tr>\n",
              "    <tr>\n",
              "      <th>3</th>\n",
              "      <td>2012-04-21 04:30:42.0000001</td>\n",
              "      <td>7.7</td>\n",
              "      <td>2012-04-21 04:30:42 UTC</td>\n",
              "      <td>-73.987130</td>\n",
              "      <td>40.733143</td>\n",
              "      <td>-73.991567</td>\n",
              "      <td>40.758092</td>\n",
              "      <td>1</td>\n",
              "    </tr>\n",
              "    <tr>\n",
              "      <th>4</th>\n",
              "      <td>2010-03-09 07:51:00.000000135</td>\n",
              "      <td>5.3</td>\n",
              "      <td>2010-03-09 07:51:00 UTC</td>\n",
              "      <td>-73.968095</td>\n",
              "      <td>40.768008</td>\n",
              "      <td>-73.956655</td>\n",
              "      <td>40.783762</td>\n",
              "      <td>1</td>\n",
              "    </tr>\n",
              "  </tbody>\n",
              "</table>\n",
              "</div>"
            ],
            "text/plain": [
              "                             key  ...  passenger_count\n",
              "0    2009-06-15 17:26:21.0000001  ...                1\n",
              "1    2010-01-05 16:52:16.0000002  ...                1\n",
              "2   2011-08-18 00:35:00.00000049  ...                2\n",
              "3    2012-04-21 04:30:42.0000001  ...                1\n",
              "4  2010-03-09 07:51:00.000000135  ...                1\n",
              "\n",
              "[5 rows x 8 columns]"
            ]
          },
          "metadata": {
            "tags": []
          },
          "execution_count": 6
        }
      ]
    },
    {
      "cell_type": "markdown",
      "metadata": {
        "id": "lboG_OmQHdP4",
        "colab_type": "text"
      },
      "source": [
        "4. Hacemos el pre-procesamiento de la Data"
      ]
    },
    {
      "cell_type": "code",
      "metadata": {
        "id": "H5mSSiHPHlZ4",
        "colab_type": "code",
        "colab": {}
      },
      "source": [
        "# Función para remover los valores nulos\n",
        "def remove_nan_values(df):\n",
        "    df = df.replace(to_replace='None', value=np.nan).dropna()\n",
        "    print(df.shape)\n",
        "    df = df[(df != 0).all(1)]\n",
        "    print(df.shape)\n",
        "    return df"
      ],
      "execution_count": 0,
      "outputs": []
    },
    {
      "cell_type": "code",
      "metadata": {
        "id": "fDQ7xo9Ixl1G",
        "colab_type": "code",
        "colab": {}
      },
      "source": [
        "# Funcion para obtener la fecha por columnas Año, Mes. Dia, Hora \n",
        "def add_time_features(df):\n",
        "    df['pickup_datetime'] =  pd.to_datetime(df['pickup_datetime'], format='%Y-%m-%d %H:%M:%S %Z')\n",
        "    df['year'] = df['pickup_datetime'].apply(lambda x: x.year)\n",
        "    df['month'] = df['pickup_datetime'].apply(lambda x: x.month)\n",
        "    df['day'] = df['pickup_datetime'].apply(lambda x: x.day)\n",
        "    df['hour'] = df['pickup_datetime'].apply(lambda x: x.hour)\n",
        "    df['weekday'] = df['pickup_datetime'].apply(lambda x: x.weekday())\n",
        "    df['pickup_datetime'] =  df['pickup_datetime'].apply(lambda x: str(x))\n",
        "   \n",
        "    # Drop 'pickup_datetime' as we won't need it anymore\n",
        "    df = df.drop('pickup_datetime', axis=1)\n",
        "    \n",
        "    return df"
      ],
      "execution_count": 0,
      "outputs": []
    },
    {
      "cell_type": "code",
      "metadata": {
        "id": "nbq_RSS8H1dH",
        "colab_type": "code",
        "colab": {
          "base_uri": "https://localhost:8080/",
          "height": 50
        },
        "outputId": "f4819a6e-ed03-4feb-a5c7-ae1bfb540d48"
      },
      "source": [
        "# Removemos los valores nulos del Data Frame\n",
        "import numpy as np\n",
        "df1 = remove_nan_values(df)\n",
        "df1 = add_time_features(df1)"
      ],
      "execution_count": 24,
      "outputs": [
        {
          "output_type": "stream",
          "text": [
            "(999990, 8)\n",
            "(976819, 8)\n"
          ],
          "name": "stdout"
        }
      ]
    },
    {
      "cell_type": "code",
      "metadata": {
        "id": "1ohdAcbqD4It",
        "colab_type": "code",
        "colab": {
          "base_uri": "https://localhost:8080/",
          "height": 197
        },
        "outputId": "dc6fac9f-fe24-42c4-e988-9cab6d7e475b"
      },
      "source": [
        "df1.head()"
      ],
      "execution_count": 25,
      "outputs": [
        {
          "output_type": "execute_result",
          "data": {
            "text/html": [
              "<div>\n",
              "<style scoped>\n",
              "    .dataframe tbody tr th:only-of-type {\n",
              "        vertical-align: middle;\n",
              "    }\n",
              "\n",
              "    .dataframe tbody tr th {\n",
              "        vertical-align: top;\n",
              "    }\n",
              "\n",
              "    .dataframe thead th {\n",
              "        text-align: right;\n",
              "    }\n",
              "</style>\n",
              "<table border=\"1\" class=\"dataframe\">\n",
              "  <thead>\n",
              "    <tr style=\"text-align: right;\">\n",
              "      <th></th>\n",
              "      <th>key</th>\n",
              "      <th>fare_amount</th>\n",
              "      <th>pickup_longitude</th>\n",
              "      <th>pickup_latitude</th>\n",
              "      <th>dropoff_longitude</th>\n",
              "      <th>dropoff_latitude</th>\n",
              "      <th>passenger_count</th>\n",
              "      <th>year</th>\n",
              "      <th>month</th>\n",
              "      <th>day</th>\n",
              "      <th>hour</th>\n",
              "      <th>weekday</th>\n",
              "    </tr>\n",
              "  </thead>\n",
              "  <tbody>\n",
              "    <tr>\n",
              "      <th>0</th>\n",
              "      <td>2009-06-15 17:26:21.0000001</td>\n",
              "      <td>4.5</td>\n",
              "      <td>-73.844311</td>\n",
              "      <td>40.721319</td>\n",
              "      <td>-73.841610</td>\n",
              "      <td>40.712278</td>\n",
              "      <td>1</td>\n",
              "      <td>2009</td>\n",
              "      <td>6</td>\n",
              "      <td>15</td>\n",
              "      <td>17</td>\n",
              "      <td>0</td>\n",
              "    </tr>\n",
              "    <tr>\n",
              "      <th>1</th>\n",
              "      <td>2010-01-05 16:52:16.0000002</td>\n",
              "      <td>16.9</td>\n",
              "      <td>-74.016048</td>\n",
              "      <td>40.711303</td>\n",
              "      <td>-73.979268</td>\n",
              "      <td>40.782004</td>\n",
              "      <td>1</td>\n",
              "      <td>2010</td>\n",
              "      <td>1</td>\n",
              "      <td>5</td>\n",
              "      <td>16</td>\n",
              "      <td>1</td>\n",
              "    </tr>\n",
              "    <tr>\n",
              "      <th>2</th>\n",
              "      <td>2011-08-18 00:35:00.00000049</td>\n",
              "      <td>5.7</td>\n",
              "      <td>-73.982738</td>\n",
              "      <td>40.761270</td>\n",
              "      <td>-73.991242</td>\n",
              "      <td>40.750562</td>\n",
              "      <td>2</td>\n",
              "      <td>2011</td>\n",
              "      <td>8</td>\n",
              "      <td>18</td>\n",
              "      <td>0</td>\n",
              "      <td>3</td>\n",
              "    </tr>\n",
              "    <tr>\n",
              "      <th>3</th>\n",
              "      <td>2012-04-21 04:30:42.0000001</td>\n",
              "      <td>7.7</td>\n",
              "      <td>-73.987130</td>\n",
              "      <td>40.733143</td>\n",
              "      <td>-73.991567</td>\n",
              "      <td>40.758092</td>\n",
              "      <td>1</td>\n",
              "      <td>2012</td>\n",
              "      <td>4</td>\n",
              "      <td>21</td>\n",
              "      <td>4</td>\n",
              "      <td>5</td>\n",
              "    </tr>\n",
              "    <tr>\n",
              "      <th>4</th>\n",
              "      <td>2010-03-09 07:51:00.000000135</td>\n",
              "      <td>5.3</td>\n",
              "      <td>-73.968095</td>\n",
              "      <td>40.768008</td>\n",
              "      <td>-73.956655</td>\n",
              "      <td>40.783762</td>\n",
              "      <td>1</td>\n",
              "      <td>2010</td>\n",
              "      <td>3</td>\n",
              "      <td>9</td>\n",
              "      <td>7</td>\n",
              "      <td>1</td>\n",
              "    </tr>\n",
              "  </tbody>\n",
              "</table>\n",
              "</div>"
            ],
            "text/plain": [
              "                             key  fare_amount  ...  hour  weekday\n",
              "0    2009-06-15 17:26:21.0000001          4.5  ...    17        0\n",
              "1    2010-01-05 16:52:16.0000002         16.9  ...    16        1\n",
              "2   2011-08-18 00:35:00.00000049          5.7  ...     0        3\n",
              "3    2012-04-21 04:30:42.0000001          7.7  ...     4        5\n",
              "4  2010-03-09 07:51:00.000000135          5.3  ...     7        1\n",
              "\n",
              "[5 rows x 12 columns]"
            ]
          },
          "metadata": {
            "tags": []
          },
          "execution_count": 25
        }
      ]
    },
    {
      "cell_type": "code",
      "metadata": {
        "id": "D719rT11IZly",
        "colab_type": "code",
        "colab": {
          "base_uri": "https://localhost:8080/",
          "height": 183
        },
        "outputId": "bc2ace63-9295-488e-815b-22e18040e88b"
      },
      "source": [
        "# Asignamos las variables características\n",
        "features = ['pickup_longitude','pickup_latitude','dropoff_longitude','dropoff_latitude','passenger_count','year','month','day','hour','weekday']\n",
        "x = df1[features].values\n",
        "print(x.shape)\n",
        "x[:3]"
      ],
      "execution_count": 26,
      "outputs": [
        {
          "output_type": "stream",
          "text": [
            "(976819, 10)\n"
          ],
          "name": "stdout"
        },
        {
          "output_type": "execute_result",
          "data": {
            "text/plain": [
              "array([[-7.3844311e+01,  4.0721319e+01, -7.3841610e+01,  4.0712278e+01,\n",
              "         1.0000000e+00,  2.0090000e+03,  6.0000000e+00,  1.5000000e+01,\n",
              "         1.7000000e+01,  0.0000000e+00],\n",
              "       [-7.4016048e+01,  4.0711303e+01, -7.3979268e+01,  4.0782004e+01,\n",
              "         1.0000000e+00,  2.0100000e+03,  1.0000000e+00,  5.0000000e+00,\n",
              "         1.6000000e+01,  1.0000000e+00],\n",
              "       [-7.3982738e+01,  4.0761270e+01, -7.3991242e+01,  4.0750562e+01,\n",
              "         2.0000000e+00,  2.0110000e+03,  8.0000000e+00,  1.8000000e+01,\n",
              "         0.0000000e+00,  3.0000000e+00]])"
            ]
          },
          "metadata": {
            "tags": []
          },
          "execution_count": 26
        }
      ]
    },
    {
      "cell_type": "code",
      "metadata": {
        "id": "ESXJ6Gmaeq57",
        "colab_type": "code",
        "colab": {
          "base_uri": "https://localhost:8080/",
          "height": 100
        },
        "outputId": "f17a0d87-6dc2-43ba-8548-c6c29db92b4e"
      },
      "source": [
        "# La variable a predecir\n",
        "y = df1['fare_amount']\n",
        "print(y.shape)\n",
        "y[:3]"
      ],
      "execution_count": 27,
      "outputs": [
        {
          "output_type": "stream",
          "text": [
            "(976819,)\n"
          ],
          "name": "stdout"
        },
        {
          "output_type": "execute_result",
          "data": {
            "text/plain": [
              "0     4.5\n",
              "1    16.9\n",
              "2     5.7\n",
              "Name: fare_amount, dtype: float64"
            ]
          },
          "metadata": {
            "tags": []
          },
          "execution_count": 27
        }
      ]
    },
    {
      "cell_type": "code",
      "metadata": {
        "id": "6VOV3nP-hnWm",
        "colab_type": "code",
        "colab": {
          "base_uri": "https://localhost:8080/",
          "height": 33
        },
        "outputId": "9974263d-0270-4f06-bfa5-c86b09fb9263"
      },
      "source": [
        "# Dividimos la data de Entrenamiento y Pruebas\n",
        "x_train, x_val, y_train, y_val = train_test_split(x, y, test_size=0.3, random_state=42) # Rango 70 y 30\n",
        "x_train.shape, x_val.shape, y_train.shape, y_val.shape"
      ],
      "execution_count": 28,
      "outputs": [
        {
          "output_type": "execute_result",
          "data": {
            "text/plain": [
              "((683773, 10), (293046, 10), (683773,), (293046,))"
            ]
          },
          "metadata": {
            "tags": []
          },
          "execution_count": 28
        }
      ]
    },
    {
      "cell_type": "code",
      "metadata": {
        "id": "QfSsvBBw9hrV",
        "colab_type": "code",
        "colab": {
          "base_uri": "https://localhost:8080/",
          "height": 133
        },
        "outputId": "5ce20256-ef0f-4d8e-d562-ee55bba228b7"
      },
      "source": [
        "print (x_train)\n"
      ],
      "execution_count": 29,
      "outputs": [
        {
          "output_type": "stream",
          "text": [
            "[[-73.983515  40.781027 -73.97888  ...  27.        11.         4.      ]\n",
            " [-73.97775   40.786876 -73.786492 ...   3.         7.         0.      ]\n",
            " [-73.98224   40.765308 -73.985965 ...  30.        19.         2.      ]\n",
            " ...\n",
            " [-73.991781  40.748941 -73.983385 ...  24.         5.         3.      ]\n",
            " [-73.949822  40.793842 -73.979477 ...   7.        16.         0.      ]\n",
            " [-73.996862  40.736683 -73.949471 ...   9.        15.         3.      ]]\n"
          ],
          "name": "stdout"
        }
      ]
    },
    {
      "cell_type": "markdown",
      "metadata": {
        "id": "1E0WC_IBiRoH",
        "colab_type": "text"
      },
      "source": [
        "5. Creamos el Modelo y lo ejecutamos - Usando KERAS"
      ]
    },
    {
      "cell_type": "code",
      "metadata": {
        "id": "mm81k48AiXev",
        "colab_type": "code",
        "colab": {
          "base_uri": "https://localhost:8080/",
          "height": 517
        },
        "outputId": "4dc3fe0d-d4dc-4daa-920b-b33c03b11811"
      },
      "source": [
        "# Librerias\n",
        "import keras\n",
        "from keras.layers import Dense\n",
        "from keras.models import Sequential\n",
        "from keras.optimizers import SGD\n",
        "from keras.layers.normalization import BatchNormalization\n",
        "from keras import optimizers\n",
        "\n",
        "\n",
        "# Parametros\n",
        "bs = 128 # Batch size\n",
        "epochs = 100\n",
        "lr = 0.01\n",
        "\n",
        "\n",
        "#scaler = preprocessing.MinMaxScaler()\n",
        "#train_df_scaled = scaler.fit_transform(x_train)\n",
        "\n",
        "# Modelo\n",
        "model = Sequential()\n",
        "model.add(Dense(256, activation='relu', input_dim=10))\n",
        "model.add(BatchNormalization())\n",
        "model.add(Dense(128, activation='relu'))\n",
        "model.add(BatchNormalization())\n",
        "model.add(Dense(64, activation='relu'))\n",
        "model.add(BatchNormalization())\n",
        "model.add(Dense(32, activation='relu'))\n",
        "model.add(BatchNormalization())\n",
        "model.add(Dense(8, activation='relu'))\n",
        "model.add(BatchNormalization())\n",
        "model.add(Dense(1))\n",
        "\n",
        "adam = optimizers.adam(lr=0.0001)\n",
        "model.compile(loss='mse', optimizer=adam, metrics=['mae']) # Usamos MAE como métrica al ser un problema de Regresión\n",
        "\n",
        "model.summary()"
      ],
      "execution_count": 32,
      "outputs": [
        {
          "output_type": "stream",
          "text": [
            "Model: \"sequential_2\"\n",
            "_________________________________________________________________\n",
            "Layer (type)                 Output Shape              Param #   \n",
            "=================================================================\n",
            "dense_7 (Dense)              (None, 256)               2816      \n",
            "_________________________________________________________________\n",
            "batch_normalization_6 (Batch (None, 256)               1024      \n",
            "_________________________________________________________________\n",
            "dense_8 (Dense)              (None, 128)               32896     \n",
            "_________________________________________________________________\n",
            "batch_normalization_7 (Batch (None, 128)               512       \n",
            "_________________________________________________________________\n",
            "dense_9 (Dense)              (None, 64)                8256      \n",
            "_________________________________________________________________\n",
            "batch_normalization_8 (Batch (None, 64)                256       \n",
            "_________________________________________________________________\n",
            "dense_10 (Dense)             (None, 32)                2080      \n",
            "_________________________________________________________________\n",
            "batch_normalization_9 (Batch (None, 32)                128       \n",
            "_________________________________________________________________\n",
            "dense_11 (Dense)             (None, 8)                 264       \n",
            "_________________________________________________________________\n",
            "batch_normalization_10 (Batc (None, 8)                 32        \n",
            "_________________________________________________________________\n",
            "dense_12 (Dense)             (None, 1)                 9         \n",
            "=================================================================\n",
            "Total params: 48,273\n",
            "Trainable params: 47,297\n",
            "Non-trainable params: 976\n",
            "_________________________________________________________________\n"
          ],
          "name": "stdout"
        }
      ]
    },
    {
      "cell_type": "code",
      "metadata": {
        "id": "kQbyBC6EjRwM",
        "colab_type": "code",
        "colab": {
          "base_uri": "https://localhost:8080/",
          "height": 1000
        },
        "outputId": "9803bca8-c468-4fc8-f41f-0395808720c2"
      },
      "source": [
        "# Entrenamiento\n",
        "log = model.fit(x_train, y_train, batch_size=bs, epochs=epochs, validation_data=[x_val, y_val])"
      ],
      "execution_count": 33,
      "outputs": [
        {
          "output_type": "stream",
          "text": [
            "WARNING:tensorflow:From /usr/local/lib/python3.6/dist-packages/keras/backend/tensorflow_backend.py:1033: The name tf.assign_add is deprecated. Please use tf.compat.v1.assign_add instead.\n",
            "\n",
            "WARNING:tensorflow:From /usr/local/lib/python3.6/dist-packages/keras/backend/tensorflow_backend.py:1020: The name tf.assign is deprecated. Please use tf.compat.v1.assign instead.\n",
            "\n",
            "WARNING:tensorflow:From /usr/local/lib/python3.6/dist-packages/keras/backend/tensorflow_backend.py:3005: The name tf.Session is deprecated. Please use tf.compat.v1.Session instead.\n",
            "\n",
            "Train on 683773 samples, validate on 293046 samples\n",
            "Epoch 1/100\n",
            "WARNING:tensorflow:From /usr/local/lib/python3.6/dist-packages/keras/backend/tensorflow_backend.py:190: The name tf.get_default_session is deprecated. Please use tf.compat.v1.get_default_session instead.\n",
            "\n",
            "WARNING:tensorflow:From /usr/local/lib/python3.6/dist-packages/keras/backend/tensorflow_backend.py:197: The name tf.ConfigProto is deprecated. Please use tf.compat.v1.ConfigProto instead.\n",
            "\n",
            "WARNING:tensorflow:From /usr/local/lib/python3.6/dist-packages/keras/backend/tensorflow_backend.py:207: The name tf.global_variables is deprecated. Please use tf.compat.v1.global_variables instead.\n",
            "\n",
            "WARNING:tensorflow:From /usr/local/lib/python3.6/dist-packages/keras/backend/tensorflow_backend.py:216: The name tf.is_variable_initialized is deprecated. Please use tf.compat.v1.is_variable_initialized instead.\n",
            "\n",
            "WARNING:tensorflow:From /usr/local/lib/python3.6/dist-packages/keras/backend/tensorflow_backend.py:223: The name tf.variables_initializer is deprecated. Please use tf.compat.v1.variables_initializer instead.\n",
            "\n",
            "683773/683773 [==============================] - 85s 124us/step - loss: 159.8784 - mean_absolute_error: 9.3332 - val_loss: 826.2691 - val_mean_absolute_error: 5.9278\n",
            "Epoch 2/100\n",
            "683773/683773 [==============================] - 79s 115us/step - loss: 69.8903 - mean_absolute_error: 5.1321 - val_loss: 382.9086 - val_mean_absolute_error: 10.4690\n",
            "Epoch 3/100\n",
            "683773/683773 [==============================] - 79s 115us/step - loss: 55.3636 - mean_absolute_error: 4.4944 - val_loss: 106.5133 - val_mean_absolute_error: 5.9434\n",
            "Epoch 4/100\n",
            "683773/683773 [==============================] - 79s 115us/step - loss: 53.8779 - mean_absolute_error: 4.4165 - val_loss: 154.7371 - val_mean_absolute_error: 10.5990\n",
            "Epoch 5/100\n",
            "683773/683773 [==============================] - 78s 115us/step - loss: 52.1902 - mean_absolute_error: 4.3450 - val_loss: 103.8855 - val_mean_absolute_error: 6.5436\n",
            "Epoch 6/100\n",
            "683773/683773 [==============================] - 79s 115us/step - loss: 45.3069 - mean_absolute_error: 4.0000 - val_loss: 7388.8003 - val_mean_absolute_error: 37.0938\n",
            "Epoch 7/100\n",
            "683773/683773 [==============================] - 79s 116us/step - loss: 40.8513 - mean_absolute_error: 3.7661 - val_loss: 6975.2337 - val_mean_absolute_error: 38.3440\n",
            "Epoch 8/100\n",
            "683773/683773 [==============================] - 79s 116us/step - loss: 39.3460 - mean_absolute_error: 3.6732 - val_loss: 2619.6582 - val_mean_absolute_error: 35.3482\n",
            "Epoch 9/100\n",
            "683773/683773 [==============================] - 79s 115us/step - loss: 37.3516 - mean_absolute_error: 3.5319 - val_loss: 2478.9062 - val_mean_absolute_error: 33.0289\n",
            "Epoch 10/100\n",
            "683773/683773 [==============================] - 79s 116us/step - loss: 34.1719 - mean_absolute_error: 3.2779 - val_loss: 7315.1485 - val_mean_absolute_error: 29.1941\n",
            "Epoch 11/100\n",
            "683773/683773 [==============================] - 79s 115us/step - loss: 31.1221 - mean_absolute_error: 3.0419 - val_loss: 4792.8953 - val_mean_absolute_error: 12.9470\n",
            "Epoch 12/100\n",
            "683773/683773 [==============================] - 79s 116us/step - loss: 29.3727 - mean_absolute_error: 2.9197 - val_loss: 4568.3947 - val_mean_absolute_error: 46.0314\n",
            "Epoch 13/100\n",
            "683773/683773 [==============================] - 79s 116us/step - loss: 28.3747 - mean_absolute_error: 2.8402 - val_loss: 2867.4971 - val_mean_absolute_error: 25.7142\n",
            "Epoch 14/100\n",
            "683773/683773 [==============================] - 79s 116us/step - loss: 27.6156 - mean_absolute_error: 2.8031 - val_loss: 8369.8015 - val_mean_absolute_error: 22.9440\n",
            "Epoch 15/100\n",
            "683773/683773 [==============================] - 79s 116us/step - loss: 27.3689 - mean_absolute_error: 2.7890 - val_loss: 5072.2136 - val_mean_absolute_error: 8.8456\n",
            "Epoch 16/100\n",
            "683773/683773 [==============================] - 79s 116us/step - loss: 27.0340 - mean_absolute_error: 2.7663 - val_loss: 4975.3021 - val_mean_absolute_error: 6.4758\n",
            "Epoch 17/100\n",
            "683773/683773 [==============================] - 79s 116us/step - loss: 26.5957 - mean_absolute_error: 2.7361 - val_loss: 7358.2496 - val_mean_absolute_error: 7.7359\n",
            "Epoch 18/100\n",
            "683773/683773 [==============================] - 79s 115us/step - loss: 26.2133 - mean_absolute_error: 2.7125 - val_loss: 11596.2952 - val_mean_absolute_error: 29.6185\n",
            "Epoch 19/100\n",
            "683773/683773 [==============================] - 79s 116us/step - loss: 25.9310 - mean_absolute_error: 2.6920 - val_loss: 17753.9662 - val_mean_absolute_error: 10.4591\n",
            "Epoch 20/100\n",
            "683773/683773 [==============================] - 79s 116us/step - loss: 25.4476 - mean_absolute_error: 2.6703 - val_loss: 21697.0758 - val_mean_absolute_error: 8.1250\n",
            "Epoch 21/100\n",
            "683773/683773 [==============================] - 79s 116us/step - loss: 25.3566 - mean_absolute_error: 2.6579 - val_loss: 6075.2688 - val_mean_absolute_error: 13.2372\n",
            "Epoch 22/100\n",
            "683773/683773 [==============================] - 79s 116us/step - loss: 25.0951 - mean_absolute_error: 2.6400 - val_loss: 7052.4249 - val_mean_absolute_error: 11.6084\n",
            "Epoch 23/100\n",
            "683773/683773 [==============================] - 79s 115us/step - loss: 24.6840 - mean_absolute_error: 2.6167 - val_loss: 32197.4768 - val_mean_absolute_error: 12.3585\n",
            "Epoch 24/100\n",
            "683773/683773 [==============================] - 79s 115us/step - loss: 24.7241 - mean_absolute_error: 2.6145 - val_loss: 39990.5862 - val_mean_absolute_error: 11.8326\n",
            "Epoch 25/100\n",
            "683773/683773 [==============================] - 79s 116us/step - loss: 24.4325 - mean_absolute_error: 2.5928 - val_loss: 191893.4759 - val_mean_absolute_error: 25.3961\n",
            "Epoch 26/100\n",
            "683773/683773 [==============================] - 79s 115us/step - loss: 24.7055 - mean_absolute_error: 2.6134 - val_loss: 71732.2004 - val_mean_absolute_error: 18.0546\n",
            "Epoch 27/100\n",
            "683773/683773 [==============================] - 79s 116us/step - loss: 24.4699 - mean_absolute_error: 2.5917 - val_loss: 40119.6194 - val_mean_absolute_error: 18.5794\n",
            "Epoch 28/100\n",
            "683773/683773 [==============================] - 79s 116us/step - loss: 24.1631 - mean_absolute_error: 2.5749 - val_loss: 48872.6901 - val_mean_absolute_error: 48.4488\n",
            "Epoch 29/100\n",
            "683773/683773 [==============================] - 79s 116us/step - loss: 24.0641 - mean_absolute_error: 2.5589 - val_loss: 28357.6403 - val_mean_absolute_error: 23.7018\n",
            "Epoch 30/100\n",
            "683773/683773 [==============================] - 79s 116us/step - loss: 23.8570 - mean_absolute_error: 2.5452 - val_loss: 90629.5532 - val_mean_absolute_error: 30.7399\n",
            "Epoch 31/100\n",
            "683773/683773 [==============================] - 79s 116us/step - loss: 23.7752 - mean_absolute_error: 2.5405 - val_loss: 69156.0905 - val_mean_absolute_error: 10.3564\n",
            "Epoch 32/100\n",
            "683773/683773 [==============================] - 78s 114us/step - loss: 23.4869 - mean_absolute_error: 2.5270 - val_loss: 17501.4448 - val_mean_absolute_error: 6.8617\n",
            "Epoch 33/100\n",
            "683773/683773 [==============================] - 72s 105us/step - loss: 23.6302 - mean_absolute_error: 2.5353 - val_loss: 14126.5710 - val_mean_absolute_error: 61.6610\n",
            "Epoch 34/100\n",
            "683773/683773 [==============================] - 72s 105us/step - loss: 23.5668 - mean_absolute_error: 2.5318 - val_loss: 38004.3550 - val_mean_absolute_error: 8.5756\n",
            "Epoch 35/100\n",
            "683773/683773 [==============================] - 75s 110us/step - loss: 23.3408 - mean_absolute_error: 2.5214 - val_loss: 40702.9761 - val_mean_absolute_error: 7.9222\n",
            "Epoch 36/100\n",
            "683773/683773 [==============================] - 78s 115us/step - loss: 22.9554 - mean_absolute_error: 2.4847 - val_loss: 32041.4134 - val_mean_absolute_error: 20.2044\n",
            "Epoch 37/100\n",
            "683773/683773 [==============================] - 78s 115us/step - loss: 23.2812 - mean_absolute_error: 2.5150 - val_loss: 19222.4919 - val_mean_absolute_error: 17.3788\n",
            "Epoch 38/100\n",
            "683773/683773 [==============================] - 79s 115us/step - loss: 22.9131 - mean_absolute_error: 2.4846 - val_loss: 28971.0962 - val_mean_absolute_error: 6.7600\n",
            "Epoch 39/100\n",
            "683773/683773 [==============================] - 79s 115us/step - loss: 22.7100 - mean_absolute_error: 2.4630 - val_loss: 43438.9961 - val_mean_absolute_error: 18.7401\n",
            "Epoch 40/100\n",
            "683773/683773 [==============================] - 78s 114us/step - loss: 22.3176 - mean_absolute_error: 2.4493 - val_loss: 13749.6183 - val_mean_absolute_error: 10.0867\n",
            "Epoch 41/100\n",
            "683773/683773 [==============================] - 78s 115us/step - loss: 22.3170 - mean_absolute_error: 2.4411 - val_loss: 17383.5698 - val_mean_absolute_error: 20.6830\n",
            "Epoch 42/100\n",
            "683773/683773 [==============================] - 78s 115us/step - loss: 22.3875 - mean_absolute_error: 2.4411 - val_loss: 22089.5211 - val_mean_absolute_error: 9.0389\n",
            "Epoch 43/100\n",
            "683773/683773 [==============================] - 79s 115us/step - loss: 22.1756 - mean_absolute_error: 2.4305 - val_loss: 106082.8215 - val_mean_absolute_error: 18.4054\n",
            "Epoch 44/100\n",
            "683773/683773 [==============================] - 78s 114us/step - loss: 22.2601 - mean_absolute_error: 2.4331 - val_loss: 44322.4807 - val_mean_absolute_error: 17.7649\n",
            "Epoch 45/100\n",
            "683773/683773 [==============================] - 78s 115us/step - loss: 21.9762 - mean_absolute_error: 2.4148 - val_loss: 132188.7342 - val_mean_absolute_error: 74.8007\n",
            "Epoch 46/100\n",
            "683773/683773 [==============================] - 79s 115us/step - loss: 21.7205 - mean_absolute_error: 2.3995 - val_loss: 27526.9813 - val_mean_absolute_error: 12.4435\n",
            "Epoch 47/100\n",
            "683773/683773 [==============================] - 79s 115us/step - loss: 21.9086 - mean_absolute_error: 2.4075 - val_loss: 19704.2377 - val_mean_absolute_error: 36.5938\n",
            "Epoch 48/100\n",
            "683773/683773 [==============================] - 72s 106us/step - loss: 21.8579 - mean_absolute_error: 2.3982 - val_loss: 14019.9082 - val_mean_absolute_error: 14.2399\n",
            "Epoch 49/100\n",
            "683773/683773 [==============================] - 72s 105us/step - loss: 21.5985 - mean_absolute_error: 2.3931 - val_loss: 4614.6988 - val_mean_absolute_error: 9.5685\n",
            "Epoch 50/100\n",
            "683773/683773 [==============================] - 72s 106us/step - loss: 21.6386 - mean_absolute_error: 2.3860 - val_loss: 152014.6792 - val_mean_absolute_error: 23.7494\n",
            "Epoch 51/100\n",
            "683773/683773 [==============================] - 74s 109us/step - loss: 21.5508 - mean_absolute_error: 2.3814 - val_loss: 80343.5686 - val_mean_absolute_error: 9.2595\n",
            "Epoch 52/100\n",
            "683773/683773 [==============================] - 75s 109us/step - loss: 21.5090 - mean_absolute_error: 2.3802 - val_loss: 7381.9671 - val_mean_absolute_error: 17.8611\n",
            "Epoch 53/100\n",
            "683773/683773 [==============================] - 75s 109us/step - loss: 21.4778 - mean_absolute_error: 2.3735 - val_loss: 18643.9429 - val_mean_absolute_error: 10.9799\n",
            "Epoch 54/100\n",
            "683773/683773 [==============================] - 75s 110us/step - loss: 21.5838 - mean_absolute_error: 2.3813 - val_loss: 70809.9163 - val_mean_absolute_error: 24.5621\n",
            "Epoch 55/100\n",
            "683773/683773 [==============================] - 75s 109us/step - loss: 21.3330 - mean_absolute_error: 2.3660 - val_loss: 24334.2176 - val_mean_absolute_error: 10.2087\n",
            "Epoch 56/100\n",
            "683773/683773 [==============================] - 75s 110us/step - loss: 21.3457 - mean_absolute_error: 2.3694 - val_loss: 92588.5526 - val_mean_absolute_error: 19.9633\n",
            "Epoch 57/100\n",
            "683773/683773 [==============================] - 74s 108us/step - loss: 21.1745 - mean_absolute_error: 2.3571 - val_loss: 6089.6845 - val_mean_absolute_error: 11.0103\n",
            "Epoch 58/100\n",
            "683773/683773 [==============================] - 75s 109us/step - loss: 21.0909 - mean_absolute_error: 2.3543 - val_loss: 61058.5842 - val_mean_absolute_error: 10.6938\n",
            "Epoch 59/100\n",
            "683773/683773 [==============================] - 74s 108us/step - loss: 21.2688 - mean_absolute_error: 2.3675 - val_loss: 41378.7351 - val_mean_absolute_error: 6.2309\n",
            "Epoch 60/100\n",
            "683773/683773 [==============================] - 75s 109us/step - loss: 21.0938 - mean_absolute_error: 2.3514 - val_loss: 12802.5342 - val_mean_absolute_error: 24.2384\n",
            "Epoch 61/100\n",
            "683773/683773 [==============================] - 73s 107us/step - loss: 21.0178 - mean_absolute_error: 2.3484 - val_loss: 89600.0135 - val_mean_absolute_error: 14.7679\n",
            "Epoch 62/100\n",
            "683773/683773 [==============================] - 74s 108us/step - loss: 20.8242 - mean_absolute_error: 2.3420 - val_loss: 22267.7452 - val_mean_absolute_error: 18.8811\n",
            "Epoch 63/100\n",
            "683773/683773 [==============================] - 75s 110us/step - loss: 20.8531 - mean_absolute_error: 2.3463 - val_loss: 53920.4791 - val_mean_absolute_error: 9.7498\n",
            "Epoch 64/100\n",
            "683773/683773 [==============================] - 75s 110us/step - loss: 20.9684 - mean_absolute_error: 2.3548 - val_loss: 120285.9931 - val_mean_absolute_error: 94.6923\n",
            "Epoch 65/100\n",
            "683773/683773 [==============================] - 74s 109us/step - loss: 20.8534 - mean_absolute_error: 2.3497 - val_loss: 53735.3242 - val_mean_absolute_error: 103.0782\n",
            "Epoch 66/100\n",
            "683773/683773 [==============================] - 75s 109us/step - loss: 20.8502 - mean_absolute_error: 2.3512 - val_loss: 20002.7668 - val_mean_absolute_error: 23.8500\n",
            "Epoch 67/100\n",
            "683773/683773 [==============================] - 74s 109us/step - loss: 20.8410 - mean_absolute_error: 2.3438 - val_loss: 97792.4419 - val_mean_absolute_error: 10.0410\n",
            "Epoch 68/100\n",
            "683773/683773 [==============================] - 75s 110us/step - loss: 20.7681 - mean_absolute_error: 2.3389 - val_loss: 13553.3173 - val_mean_absolute_error: 16.3883\n",
            "Epoch 69/100\n",
            "683773/683773 [==============================] - 75s 109us/step - loss: 20.6566 - mean_absolute_error: 2.3368 - val_loss: 16689.4461 - val_mean_absolute_error: 8.8642\n",
            "Epoch 70/100\n",
            "683773/683773 [==============================] - 76s 111us/step - loss: 20.6484 - mean_absolute_error: 2.3340 - val_loss: 33250.1097 - val_mean_absolute_error: 15.0779\n",
            "Epoch 71/100\n",
            "683773/683773 [==============================] - 75s 109us/step - loss: 21.3627 - mean_absolute_error: 2.4030 - val_loss: 22773.1984 - val_mean_absolute_error: 55.7361\n",
            "Epoch 72/100\n",
            "683773/683773 [==============================] - 75s 110us/step - loss: 29.3069 - mean_absolute_error: 3.1578 - val_loss: 199991.2729 - val_mean_absolute_error: 20.5824\n",
            "Epoch 73/100\n",
            "683773/683773 [==============================] - 75s 109us/step - loss: 23.3320 - mean_absolute_error: 2.6123 - val_loss: 28107.4056 - val_mean_absolute_error: 24.2734\n",
            "Epoch 74/100\n",
            "683773/683773 [==============================] - 76s 111us/step - loss: 21.7801 - mean_absolute_error: 2.4700 - val_loss: 61304.5669 - val_mean_absolute_error: 10.0209\n",
            "Epoch 75/100\n",
            "683773/683773 [==============================] - 75s 109us/step - loss: 21.1299 - mean_absolute_error: 2.4094 - val_loss: 11076.9395 - val_mean_absolute_error: 13.3429\n",
            "Epoch 76/100\n",
            "683773/683773 [==============================] - 75s 109us/step - loss: 20.9457 - mean_absolute_error: 2.3841 - val_loss: 127685.5607 - val_mean_absolute_error: 71.6085\n",
            "Epoch 77/100\n",
            "683773/683773 [==============================] - 75s 110us/step - loss: 20.7279 - mean_absolute_error: 2.3680 - val_loss: 75694.7210 - val_mean_absolute_error: 8.5748\n",
            "Epoch 78/100\n",
            "683773/683773 [==============================] - 75s 110us/step - loss: 20.7236 - mean_absolute_error: 2.3672 - val_loss: 30382.4119 - val_mean_absolute_error: 31.4842\n",
            "Epoch 79/100\n",
            "683773/683773 [==============================] - 75s 109us/step - loss: 20.7367 - mean_absolute_error: 2.3622 - val_loss: 96712.3497 - val_mean_absolute_error: 7.0762\n",
            "Epoch 80/100\n",
            "683773/683773 [==============================] - 75s 109us/step - loss: 20.7296 - mean_absolute_error: 2.3557 - val_loss: 7664.8494 - val_mean_absolute_error: 7.9851\n",
            "Epoch 81/100\n",
            "683773/683773 [==============================] - 75s 109us/step - loss: 20.5583 - mean_absolute_error: 2.3540 - val_loss: 14140.7416 - val_mean_absolute_error: 28.3821\n",
            "Epoch 82/100\n",
            "683773/683773 [==============================] - 75s 110us/step - loss: 20.4262 - mean_absolute_error: 2.3380 - val_loss: 27151.1622 - val_mean_absolute_error: 6.4783\n",
            "Epoch 83/100\n",
            "683773/683773 [==============================] - 75s 109us/step - loss: 20.4532 - mean_absolute_error: 2.3354 - val_loss: 21372.4539 - val_mean_absolute_error: 9.7704\n",
            "Epoch 84/100\n",
            "683773/683773 [==============================] - 75s 109us/step - loss: 20.4905 - mean_absolute_error: 2.3412 - val_loss: 7444.1071 - val_mean_absolute_error: 14.1417\n",
            "Epoch 85/100\n",
            "683773/683773 [==============================] - 75s 110us/step - loss: 20.4996 - mean_absolute_error: 2.3351 - val_loss: 15799.5868 - val_mean_absolute_error: 25.5654\n",
            "Epoch 86/100\n",
            "683773/683773 [==============================] - 75s 110us/step - loss: 20.4512 - mean_absolute_error: 2.3376 - val_loss: 40443.9982 - val_mean_absolute_error: 6.3481\n",
            "Epoch 87/100\n",
            "683773/683773 [==============================] - 75s 110us/step - loss: 20.2396 - mean_absolute_error: 2.3246 - val_loss: 85469.2194 - val_mean_absolute_error: 22.3930\n",
            "Epoch 88/100\n",
            "683773/683773 [==============================] - 76s 111us/step - loss: 20.1856 - mean_absolute_error: 2.3138 - val_loss: 71738.9782 - val_mean_absolute_error: 44.6347\n",
            "Epoch 89/100\n",
            "683773/683773 [==============================] - 76s 111us/step - loss: 20.3057 - mean_absolute_error: 2.3253 - val_loss: 29622.9005 - val_mean_absolute_error: 22.2505\n",
            "Epoch 90/100\n",
            "683773/683773 [==============================] - 75s 109us/step - loss: 20.1625 - mean_absolute_error: 2.3192 - val_loss: 10437.6111 - val_mean_absolute_error: 6.0672\n",
            "Epoch 91/100\n",
            "683773/683773 [==============================] - 75s 110us/step - loss: 19.9359 - mean_absolute_error: 2.3036 - val_loss: 27930.0141 - val_mean_absolute_error: 17.5429\n",
            "Epoch 92/100\n",
            "683773/683773 [==============================] - 75s 110us/step - loss: 19.9664 - mean_absolute_error: 2.3119 - val_loss: 33645.1762 - val_mean_absolute_error: 20.3627\n",
            "Epoch 93/100\n",
            "683773/683773 [==============================] - 76s 111us/step - loss: 19.9582 - mean_absolute_error: 2.3020 - val_loss: 73777.9993 - val_mean_absolute_error: 31.7564\n",
            "Epoch 94/100\n",
            "683773/683773 [==============================] - 75s 109us/step - loss: 19.8472 - mean_absolute_error: 2.2925 - val_loss: 16300.6398 - val_mean_absolute_error: 16.9691\n",
            "Epoch 95/100\n",
            "683773/683773 [==============================] - 75s 110us/step - loss: 19.9667 - mean_absolute_error: 2.2985 - val_loss: 40744.5890 - val_mean_absolute_error: 29.4282\n",
            "Epoch 96/100\n",
            "683773/683773 [==============================] - 75s 110us/step - loss: 19.8527 - mean_absolute_error: 2.2956 - val_loss: 112648.0308 - val_mean_absolute_error: 18.2931\n",
            "Epoch 97/100\n",
            "683773/683773 [==============================] - 75s 110us/step - loss: 19.8706 - mean_absolute_error: 2.2926 - val_loss: 79530.6226 - val_mean_absolute_error: 18.8835\n",
            "Epoch 98/100\n",
            "683773/683773 [==============================] - 76s 111us/step - loss: 19.8667 - mean_absolute_error: 2.2931 - val_loss: 2055.0358 - val_mean_absolute_error: 18.7930\n",
            "Epoch 99/100\n",
            "683773/683773 [==============================] - 75s 110us/step - loss: 20.6402 - mean_absolute_error: 2.3716 - val_loss: 244701.1992 - val_mean_absolute_error: 24.9490\n",
            "Epoch 100/100\n",
            "683773/683773 [==============================] - 75s 109us/step - loss: 20.0601 - mean_absolute_error: 2.3240 - val_loss: 10067.1493 - val_mean_absolute_error: 7.1720\n"
          ],
          "name": "stdout"
        }
      ]
    },
    {
      "cell_type": "code",
      "metadata": {
        "id": "7aHs8SQ2j4BD",
        "colab_type": "code",
        "colab": {
          "base_uri": "https://localhost:8080/",
          "height": 269
        },
        "outputId": "6d514bb1-3e49-418c-d078-dc8b3ec548cc"
      },
      "source": [
        "# Ploteamos las perdidas\n",
        "plt.plot(log.history['loss'], label='train')\n",
        "plt.plot(log.history['val_loss'], label='validation')\n",
        "plt.legend();"
      ],
      "execution_count": 34,
      "outputs": [
        {
          "output_type": "display_data",
          "data": {
            "image/png": "[encoded data removed]",
            "text/plain": [
              "<Figure size 432x288 with 1 Axes>"
            ]
          },
          "metadata": {
            "tags": []
          }
        }
      ]
    },
    {
      "cell_type": "code",
      "metadata": {
        "id": "icSBe17ukV32",
        "colab_type": "code",
        "colab": {
          "base_uri": "https://localhost:8080/",
          "height": 67
        },
        "outputId": "08327a84-c091-4921-c327-22be62d2ad16"
      },
      "source": [
        "val_loss, val_mean_absolute_error = model.evaluate(x_val, y_val)\n",
        "print(f'Loss = {val_loss:.2f}\\n MAE = {val_mean_absolute_error:.2f}')"
      ],
      "execution_count": 35,
      "outputs": [
        {
          "output_type": "stream",
          "text": [
            "293046/293046 [==============================] - 20s 69us/step\n",
            "Loss = 10067.15\n",
            " MAE = 7.17\n"
          ],
          "name": "stdout"
        }
      ]
    }
  ]
}